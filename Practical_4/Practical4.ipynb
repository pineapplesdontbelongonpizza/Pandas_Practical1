{
 "cells": [
  {
   "cell_type": "code",
   "execution_count": 1,
   "id": "1b869d69",
   "metadata": {},
   "outputs": [
    {
     "data": {
      "text/html": [
       "<div>\n",
       "<style scoped>\n",
       "    .dataframe tbody tr th:only-of-type {\n",
       "        vertical-align: middle;\n",
       "    }\n",
       "\n",
       "    .dataframe tbody tr th {\n",
       "        vertical-align: top;\n",
       "    }\n",
       "\n",
       "    .dataframe thead th {\n",
       "        text-align: right;\n",
       "    }\n",
       "</style>\n",
       "<table border=\"1\" class=\"dataframe\">\n",
       "  <thead>\n",
       "    <tr style=\"text-align: right;\">\n",
       "      <th></th>\n",
       "      <th>age</th>\n",
       "      <th>gender</th>\n",
       "      <th>minority</th>\n",
       "      <th>tenure</th>\n",
       "      <th>eval</th>\n",
       "    </tr>\n",
       "  </thead>\n",
       "  <tbody>\n",
       "    <tr>\n",
       "      <th>0</th>\n",
       "      <td>45</td>\n",
       "      <td>male</td>\n",
       "      <td>no</td>\n",
       "      <td>no</td>\n",
       "      <td>4.1</td>\n",
       "    </tr>\n",
       "    <tr>\n",
       "      <th>1</th>\n",
       "      <td>52</td>\n",
       "      <td>female</td>\n",
       "      <td>no</td>\n",
       "      <td>yes</td>\n",
       "      <td>4.3</td>\n",
       "    </tr>\n",
       "    <tr>\n",
       "      <th>2</th>\n",
       "      <td>39</td>\n",
       "      <td>male</td>\n",
       "      <td>yes</td>\n",
       "      <td>no</td>\n",
       "      <td>3.8</td>\n",
       "    </tr>\n",
       "    <tr>\n",
       "      <th>3</th>\n",
       "      <td>60</td>\n",
       "      <td>male</td>\n",
       "      <td>no</td>\n",
       "      <td>yes</td>\n",
       "      <td>4.7</td>\n",
       "    </tr>\n",
       "    <tr>\n",
       "      <th>4</th>\n",
       "      <td>48</td>\n",
       "      <td>female</td>\n",
       "      <td>yes</td>\n",
       "      <td>no</td>\n",
       "      <td>3.9</td>\n",
       "    </tr>\n",
       "  </tbody>\n",
       "</table>\n",
       "</div>"
      ],
      "text/plain": [
       "   age  gender minority tenure  eval\n",
       "0   45    male       no     no   4.1\n",
       "1   52  female       no    yes   4.3\n",
       "2   39    male      yes     no   3.8\n",
       "3   60    male       no    yes   4.7\n",
       "4   48  female      yes     no   3.9"
      ]
     },
     "execution_count": 1,
     "metadata": {},
     "output_type": "execute_result"
    }
   ],
   "source": [
    "import pandas as pd\n",
    "\n",
    "df = pd.read_excel(\"student_rating.xlsx\")\n",
    "df.head()"
   ]
  },
  {
   "cell_type": "markdown",
   "id": "a24a892e",
   "metadata": {},
   "source": [
    "Q1. Calculate the percentage of visible minorities are tenure professors. Will you say that tenure status differed if teacher was a visible minority?\n",
    "\n",
    "A1."
   ]
  },
  {
   "cell_type": "code",
   "execution_count": 2,
   "id": "b7659796",
   "metadata": {},
   "outputs": [
    {
     "name": "stdout",
     "output_type": "stream",
     "text": [
      "Percentage of visible minorities who are tenured: 41.18 %\n",
      "Percentage of non-minorities who are tenured: 52.94 %\n",
      "→ Visible minorities have a lower tenure percentage, so tenure status differs by minority status.\n"
     ]
    }
   ],
   "source": [
    "#visible minorities\n",
    "total_minority = df[df['minority'] == 'yes']\n",
    "\n",
    "#tenured visible minorities\n",
    "tenured_minority = total_minority[total_minority['tenure'] == 'yes']\n",
    "\n",
    "#Calculate percentage\n",
    "percent_tenured_minority = (len(tenured_minority) / len(total_minority)) * 100\n",
    "print(\"Percentage of visible minorities who are tenured:\", round(percent_tenured_minority, 2), \"%\")\n",
    "\n",
    "#Compare with non-minorities\n",
    "non_minority = df[df['minority'] == 'no']\n",
    "percent_tenured_nonminority = (len(non_minority[non_minority['tenure'] == 'yes']) / len(non_minority)) * 100\n",
    "print(\"Percentage of non-minorities who are tenured:\", round(percent_tenured_nonminority, 2), \"%\")\n",
    "\n",
    "#Interpretation\n",
    "if percent_tenured_minority < percent_tenured_nonminority:\n",
    "    print(\"→ Visible minorities have a lower tenure percentage, so tenure status differs by minority status.\")\n",
    "else:\n",
    "    print(\"→ No significant difference in tenure status by minority status.\")"
   ]
  },
  {
   "cell_type": "markdown",
   "id": "fb2f270a",
   "metadata": {},
   "source": [
    "Q2. Does average age differ by tenure? Produce the means and standard deviations for both tenured and untenured professors.\n",
    "\n",
    "A2."
   ]
  },
  {
   "cell_type": "code",
   "execution_count": 3,
   "id": "b3aa14eb",
   "metadata": {},
   "outputs": [
    {
     "name": "stdout",
     "output_type": "stream",
     "text": [
      "         mean   std\n",
      "tenure             \n",
      "no      42.23  4.22\n",
      "yes     57.88  4.33\n"
     ]
    }
   ],
   "source": [
    "#Mean and standard deviation of age by tenure\n",
    "age_stats = df.groupby('tenure')['age'].agg(['mean', 'std']).round(2)\n",
    "print(age_stats)\n"
   ]
  },
  {
   "cell_type": "markdown",
   "id": "f8734f6b",
   "metadata": {},
   "source": [
    "Q3. Which graph works better and plot that graph for the age variable?\n",
    "\n",
    "A3."
   ]
  },
  {
   "cell_type": "code",
   "execution_count": 4,
   "id": "73445e65",
   "metadata": {},
   "outputs": [
    {
     "data": {
      "image/png": "[encoded data removed]",
      "text/plain": [
       "<Figure size 640x480 with 1 Axes>"
      ]
     },
     "metadata": {},
     "output_type": "display_data"
    }
   ],
   "source": [
    "import matplotlib.pyplot as plt\n",
    "\n",
    "plt.hist(df['age'], bins=10, edgecolor='black')\n",
    "plt.title('Distribution of Professor Age')\n",
    "plt.xlabel('Age')\n",
    "plt.ylabel('Frequency')\n",
    "plt.show()"
   ]
  },
  {
   "cell_type": "markdown",
   "id": "4da22324",
   "metadata": {},
   "source": [
    "Q4. Define the difference between pyplot.bar and pyplot.barh. Also plot the graph for gender variable.\n",
    "\n",
    "A4."
   ]
  },
  {
   "cell_type": "code",
   "execution_count": 5,
   "id": "5640b5c1",
   "metadata": {},
   "outputs": [
    {
     "data": {
      "image/png": "[encoded data removed]",
      "text/plain": [
       "<Figure size 640x480 with 1 Axes>"
      ]
     },
     "metadata": {},
     "output_type": "display_data"
    }
   ],
   "source": [
    "gender_counts = df['gender'].value_counts()\n",
    "\n",
    "# Vertical bar chart\n",
    "plt.bar(gender_counts.index, gender_counts.values, color=['pink', 'lightblue'])\n",
    "plt.title('Gender Distribution')\n",
    "plt.xlabel('Gender')\n",
    "plt.ylabel('Count')\n",
    "plt.show()"
   ]
  },
  {
   "cell_type": "markdown",
   "id": "9d41d5f9",
   "metadata": {},
   "source": [
    "Q5. What is the Median evaluation score for tenured Professors?\n",
    "\n",
    "A5. "
   ]
  },
  {
   "cell_type": "code",
   "execution_count": 7,
   "id": "fc455fd4",
   "metadata": {},
   "outputs": [
    {
     "name": "stdout",
     "output_type": "stream",
     "text": [
      "Median evaluation score for tenured professors: 4.6\n"
     ]
    }
   ],
   "source": [
    "median_eval_tenured = df[df['tenure'] == 'yes']['eval'].median()\n",
    "print(\"Median evaluation score for tenured professors:\", median_eval_tenured)"
   ]
  }
 ],
 "metadata": {
  "kernelspec": {
   "display_name": "Python 3 (ipykernel)",
   "language": "python",
   "name": "python3"
  },
  "language_info": {
   "codemirror_mode": {
    "name": "ipython",
    "version": 3
   },
   "file_extension": ".py",
   "mimetype": "text/x-python",
   "name": "python",
   "nbconvert_exporter": "python",
   "pygments_lexer": "ipython3",
   "version": "3.11.5"
  }
 },
 "nbformat": 4,
 "nbformat_minor": 5
}
