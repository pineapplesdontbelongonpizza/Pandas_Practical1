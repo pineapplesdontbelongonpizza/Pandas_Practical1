{
 "cells": [
  {
   "cell_type": "code",
   "execution_count": 2,
   "id": "9f20fe89",
   "metadata": {},
   "outputs": [
    {
     "name": "stdout",
     "output_type": "stream",
     "text": [
      "   age  gender  beauty  eval tenure  students     prof\n",
      "0   57    Male    9.59  4.24    Yes        14  Prof_52\n",
      "1   43    Male    9.53  9.58     No        38  Prof_93\n",
      "2   36    Male    4.34  9.68     No       174  Prof_15\n",
      "3   49    Male    6.13  9.40    Yes       145  Prof_72\n",
      "4   47  Female    4.70  5.59    Yes       154  Prof_61\n"
     ]
    }
   ],
   "source": [
    "import pandas as pd\n",
    "df = pd.read_csv(\"teacher_ratings.csv\")\n",
    "\n",
    "print(df.head())"
   ]
  },
  {
   "cell_type": "markdown",
   "id": "65344c49",
   "metadata": {},
   "source": [
    "Q1. Can you identify whether teachers’ rating data is time series or cross-sectional?\n",
    "\n",
    "A1. Time Series Data: Refers to observations recorded over different time periods for the same subject.\n",
    "Example: Monthly temperature of one city.\n",
    "\n",
    "Cross-Sectional Data: Refers to observations collected at one point in time for different subjects.\n",
    "Example: Ratings of multiple teachers taken in one semester.\n",
    "\n",
    "Analysis\n",
    "The dataset contains details such as age, gender, beauty, eval, tenure, and students for different instructors.\n",
    "It does not include repeated observations over time — only one entry per teacher.\n",
    "\n",
    "Conclusion\n",
    "The teachers’ rating dataset is cross-sectional, because it records information for different teachers at a single point in time, not across multiple time periods."
   ]
  },
  {
   "cell_type": "markdown",
   "id": "5790aacf",
   "metadata": {},
   "source": [
    "Q2. Find the mean, median, minimum, and maximum values for the students.\n",
    "\n",
    "A2."
   ]
  },
  {
   "cell_type": "code",
   "execution_count": 4,
   "id": "43d8d391",
   "metadata": {},
   "outputs": [
    {
     "name": "stdout",
     "output_type": "stream",
     "text": [
      "Mean: 158.68\n",
      "Median: 167.0\n",
      "Minimum: 10\n",
      "Maximum: 298\n"
     ]
    }
   ],
   "source": [
    "mean_students = df['students'].mean()\n",
    "median_students = df['students'].median()\n",
    "min_students = df['students'].min()\n",
    "max_students = df['students'].max()\n",
    "\n",
    "print(\"Mean:\", mean_students)\n",
    "print(\"Median:\", median_students)\n",
    "print(\"Minimum:\", min_students)\n",
    "print(\"Maximum:\", max_students)\n"
   ]
  },
  {
   "cell_type": "markdown",
   "id": "5e4e67b2",
   "metadata": {},
   "source": [
    "Q3. Produce the descriptive statistics table.\n",
    "\n",
    "A3. "
   ]
  },
  {
   "cell_type": "code",
   "execution_count": 5,
   "id": "1eb4b2be",
   "metadata": {},
   "outputs": [
    {
     "data": {
      "text/html": [
       "<div>\n",
       "<style scoped>\n",
       "    .dataframe tbody tr th:only-of-type {\n",
       "        vertical-align: middle;\n",
       "    }\n",
       "\n",
       "    .dataframe tbody tr th {\n",
       "        vertical-align: top;\n",
       "    }\n",
       "\n",
       "    .dataframe thead th {\n",
       "        text-align: right;\n",
       "    }\n",
       "</style>\n",
       "<table border=\"1\" class=\"dataframe\">\n",
       "  <thead>\n",
       "    <tr style=\"text-align: right;\">\n",
       "      <th></th>\n",
       "      <th>age</th>\n",
       "      <th>beauty</th>\n",
       "      <th>eval</th>\n",
       "      <th>students</th>\n",
       "    </tr>\n",
       "  </thead>\n",
       "  <tbody>\n",
       "    <tr>\n",
       "      <th>count</th>\n",
       "      <td>100.000000</td>\n",
       "      <td>100.000000</td>\n",
       "      <td>100.000000</td>\n",
       "      <td>100.000000</td>\n",
       "    </tr>\n",
       "    <tr>\n",
       "      <th>mean</th>\n",
       "      <td>47.060000</td>\n",
       "      <td>6.070300</td>\n",
       "      <td>6.637400</td>\n",
       "      <td>158.680000</td>\n",
       "    </tr>\n",
       "    <tr>\n",
       "      <th>std</th>\n",
       "      <td>10.688255</td>\n",
       "      <td>2.102865</td>\n",
       "      <td>2.082242</td>\n",
       "      <td>82.807661</td>\n",
       "    </tr>\n",
       "    <tr>\n",
       "      <th>min</th>\n",
       "      <td>29.000000</td>\n",
       "      <td>2.540000</td>\n",
       "      <td>3.100000</td>\n",
       "      <td>10.000000</td>\n",
       "    </tr>\n",
       "    <tr>\n",
       "      <th>25%</th>\n",
       "      <td>37.000000</td>\n",
       "      <td>4.265000</td>\n",
       "      <td>4.997500</td>\n",
       "      <td>90.500000</td>\n",
       "    </tr>\n",
       "    <tr>\n",
       "      <th>50%</th>\n",
       "      <td>48.500000</td>\n",
       "      <td>6.305000</td>\n",
       "      <td>6.790000</td>\n",
       "      <td>167.000000</td>\n",
       "    </tr>\n",
       "    <tr>\n",
       "      <th>75%</th>\n",
       "      <td>55.000000</td>\n",
       "      <td>7.587500</td>\n",
       "      <td>8.435000</td>\n",
       "      <td>229.000000</td>\n",
       "    </tr>\n",
       "    <tr>\n",
       "      <th>max</th>\n",
       "      <td>66.000000</td>\n",
       "      <td>9.700000</td>\n",
       "      <td>9.930000</td>\n",
       "      <td>298.000000</td>\n",
       "    </tr>\n",
       "  </tbody>\n",
       "</table>\n",
       "</div>"
      ],
      "text/plain": [
       "              age      beauty        eval    students\n",
       "count  100.000000  100.000000  100.000000  100.000000\n",
       "mean    47.060000    6.070300    6.637400  158.680000\n",
       "std     10.688255    2.102865    2.082242   82.807661\n",
       "min     29.000000    2.540000    3.100000   10.000000\n",
       "25%     37.000000    4.265000    4.997500   90.500000\n",
       "50%     48.500000    6.305000    6.790000  167.000000\n",
       "75%     55.000000    7.587500    8.435000  229.000000\n",
       "max     66.000000    9.700000    9.930000  298.000000"
      ]
     },
     "execution_count": 5,
     "metadata": {},
     "output_type": "execute_result"
    }
   ],
   "source": [
    "df.describe()"
   ]
  },
  {
   "cell_type": "markdown",
   "id": "5e372b36",
   "metadata": {},
   "source": [
    "Q4. Create a histogram of the beauty variable and briefly comment on the distribution of the data.\n",
    "\n",
    "A4."
   ]
  },
  {
   "cell_type": "code",
   "execution_count": 6,
   "id": "faa222cb",
   "metadata": {},
   "outputs": [
    {
     "data": {
      "image/png": "[encoded data removed]",
      "text/plain": [
       "<Figure size 640x480 with 1 Axes>"
      ]
     },
     "metadata": {},
     "output_type": "display_data"
    }
   ],
   "source": [
    "import matplotlib.pyplot as plt\n",
    "\n",
    "plt.hist(df['beauty'], bins=10, color='skyblue', edgecolor='black')\n",
    "plt.title('Distribution of Beauty Scores')\n",
    "plt.xlabel('Beauty Score')\n",
    "plt.ylabel('Frequency')\n",
    "plt.show()\n"
   ]
  },
  {
   "cell_type": "markdown",
   "id": "543524da",
   "metadata": {},
   "source": [
    "Q5. Does average beauty score differ by gender?\n",
    "\n",
    "A5. "
   ]
  },
  {
   "cell_type": "code",
   "execution_count": 7,
   "id": "e93e89e5",
   "metadata": {},
   "outputs": [
    {
     "data": {
      "text/plain": [
       "gender\n",
       "Female    6.506818\n",
       "Male      5.727321\n",
       "Name: beauty, dtype: float64"
      ]
     },
     "execution_count": 7,
     "metadata": {},
     "output_type": "execute_result"
    }
   ],
   "source": [
    "df.groupby('gender')['beauty'].mean()"
   ]
  },
  {
   "cell_type": "markdown",
   "id": "19e70994",
   "metadata": {},
   "source": [
    "Q6. Calculate the percentage of males and females that are tenured professors.\n",
    "\n",
    "A6. "
   ]
  },
  {
   "cell_type": "code",
   "execution_count": 8,
   "id": "66ac9d32",
   "metadata": {},
   "outputs": [
    {
     "name": "stdout",
     "output_type": "stream",
     "text": [
      "gender  tenure\n",
      "Female  No        52.272727\n",
      "        Yes       47.727273\n",
      "Male    No        57.142857\n",
      "        Yes       42.857143\n",
      "Name: proportion, dtype: float64\n"
     ]
    }
   ],
   "source": [
    "tenure_percentage = df.groupby('gender')['tenure'].value_counts(normalize=True) * 100\n",
    "print(tenure_percentage)"
   ]
  }
 ],
 "metadata": {
  "kernelspec": {
   "display_name": "Python 3 (ipykernel)",
   "language": "python",
   "name": "python3"
  },
  "language_info": {
   "codemirror_mode": {
    "name": "ipython",
    "version": 3
   },
   "file_extension": ".py",
   "mimetype": "text/x-python",
   "name": "python",
   "nbconvert_exporter": "python",
   "pygments_lexer": "ipython3",
   "version": "3.11.5"
  }
 },
 "nbformat": 4,
 "nbformat_minor": 5
}
