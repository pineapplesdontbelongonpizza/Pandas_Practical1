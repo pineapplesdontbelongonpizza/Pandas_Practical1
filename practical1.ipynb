{
 "cells": [
  {
   "cell_type": "code",
   "execution_count": 15,
   "id": "252551b1",
   "metadata": {},
   "outputs": [],
   "source": [
    "import numpy as np\n",
    "import pandas as pd\n",
    "np.random.seed(42)"
   ]
  },
  {
   "cell_type": "code",
   "execution_count": 19,
   "id": "0df1196a",
   "metadata": {},
   "outputs": [
    {
     "name": "stdout",
     "output_type": "stream",
     "text": [
      "Synthetic Dataset with NaNs:\n",
      "      age     income\n",
      "0   18.0    28392.0\n",
      "1   42.0    50535.0\n",
      "2   24.0        NaN\n",
      "3    NaN    72256.0\n",
      "4   41.0    55222.0\n",
      "5   18.0        NaN\n",
      "6    NaN    99575.0\n",
      "7   41.0        NaN\n",
      "8   28.0    30965.0\n",
      "9   34.0    44538.0\n",
      "10  25.0  1000000.0\n",
      "11  52.0    28110.0\n",
      "12  52.0    99309.0\n",
      "13  50.0    47266.0\n",
      "14  22.0    72992.0\n",
      "15  59.0    26910.0\n",
      "16  56.0    20206.0\n",
      "17  58.0    43419.0\n",
      "18  45.0    70636.0\n",
      "19  24.0    70015.0\n"
     ]
    }
   ],
   "source": [
    "#----------------------------------------------------------PROBLEM 1------------------------------------------------------------\n",
    "data = {\n",
    "    \"age\": np.random.randint(18, 60, size=20),\n",
    "    \"income\": np.random.randint(20000, 100000, size=20).astype(float)\n",
    "}\n",
    "df = pd.DataFrame(data)\n",
    "\n",
    "#randomizing nan values\n",
    "df.loc[[2, 5, 7], \"income\"] = np.nan\n",
    "df.loc[[3, 6], \"age\"] = np.nan\n",
    "\n",
    "df.loc[10, \"income\"] = 1000000  #to check for outliers\n",
    "\n",
    "\n",
    "print(\"Synthetic Dataset with NaNs:\\n\", df)"
   ]
  },
  {
   "cell_type": "code",
   "execution_count": 20,
   "id": "2ad20ebe",
   "metadata": {},
   "outputs": [
    {
     "name": "stdout",
     "output_type": "stream",
     "text": [
      "(a) Mean Income: 109432.11764705883\n",
      "(b) Median Income: 50535.0\n",
      "(c) Age-Weighted Mean Income: 87409.83498349835\n"
     ]
    }
   ],
   "source": [
    "mean_income = df[\"income\"].mean()\n",
    "median_income = df[\"income\"].median()\n",
    "\n",
    "valid_data = df.dropna(subset=[\"income\", \"age\"])   # remove rows with NaN in either column\n",
    "weighted_mean_income = np.average(\n",
    "    valid_data[\"income\"],\n",
    "    weights=valid_data[\"age\"]\n",
    ")\n",
    "\n",
    "print(\"(a) Mean Income:\", mean_income)\n",
    "print(\"(b) Median Income:\", median_income)\n",
    "print(\"(c) Age-Weighted Mean Income:\", weighted_mean_income)"
   ]
  },
  {
   "cell_type": "markdown",
   "id": "02ba8dee",
   "metadata": {},
   "source": [
    "A weighted mean is more appropriate when some observations ought to have greater impact on the average because of their weight, reliability, or representativeness. For instance, in calculating general student grades, various exams have varying percentages, so a weighted mean is more representative of the actual performance compared to a plain mean."
   ]
  },
  {
   "cell_type": "code",
   "execution_count": 24,
   "id": "8d52105b",
   "metadata": {},
   "outputs": [
    {
     "name": "stdout",
     "output_type": "stream",
     "text": [
      "Standardized Income (z-score):\n",
      "        income  income_z\n",
      "0     28392.0 -0.351182\n",
      "1     50535.0 -0.255227\n",
      "2         NaN       NaN\n",
      "3     72256.0 -0.161100\n",
      "4     55222.0 -0.234916\n",
      "5         NaN       NaN\n",
      "6     99575.0 -0.042715\n",
      "7         NaN       NaN\n",
      "8     30965.0 -0.340032\n",
      "9     44538.0 -0.281215\n",
      "10  1000000.0  3.859221\n",
      "11    28110.0 -0.352404\n",
      "12    99309.0 -0.043868\n",
      "13    47266.0 -0.269393\n",
      "14    72992.0 -0.157911\n",
      "15    26910.0 -0.357604\n",
      "16    20206.0 -0.386656\n",
      "17    43419.0 -0.286064\n",
      "18    70636.0 -0.168121\n",
      "19    70015.0 -0.170812\n",
      "\n",
      "Number of Outliers: 1\n",
      "Outlier Rows:\n",
      "      age     income  income_z age_bin\n",
      "10  25.0  1000000.0  3.859221   25-35\n"
     ]
    }
   ],
   "source": [
    "#----------------------------------------------------------PROBLEM 2------------------------------------------------------------\n",
    "income_mean = df[\"income\"].mean(skipna=True)\n",
    "income_std = df[\"income\"].std(skipna=True)\n",
    "\n",
    "df[\"income_z\"] = (df[\"income\"] - income_mean) / income_std\n",
    "\n",
    "outliers = df[df[\"income_z\"].abs() > 3]\n",
    "\n",
    "print(\"Standardized Income (z-score):\\n\", df[[\"income\", \"income_z\"]])\n",
    "print(\"\\nNumber of Outliers:\", outliers.shape[0])\n",
    "print(\"Outlier Rows:\\n\", outliers)\n"
   ]
  },
  {
   "cell_type": "code",
   "execution_count": 23,
   "id": "cb67bb90",
   "metadata": {},
   "outputs": [
    {
     "name": "stdout",
     "output_type": "stream",
     "text": [
      "Statistics by Age Bin:\n",
      "   age_bin  count    mean_income  median_income\n",
      "0   18-25      3   57133.000000        70015.0\n",
      "1   25-35      3  358501.000000        44538.0\n",
      "2   35-45      2   52878.500000        52878.5\n",
      "3   45-60      7   47979.428571        43419.0\n"
     ]
    }
   ],
   "source": [
    "#----------------------------------------------------------PROBLEM 3------------------------------------------------------------\n",
    "bins = [18, 25, 35, 45, 60]\n",
    "labels = [\"18-25\", \"25-35\", \"35-45\", \"45-60\"]\n",
    "\n",
    "df[\"age_bin\"] = pd.cut(df[\"age\"], bins=bins, labels=labels, right=False)\n",
    "\n",
    "result = df.groupby(\"age_bin\").agg(\n",
    "    count=(\"income\", \"count\"),\n",
    "    mean_income=(\"income\", \"mean\"),\n",
    "    median_income=(\"income\", \"median\")\n",
    ").reset_index()\n",
    "\n",
    "print(\"Statistics by Age Bin:\\n\", result.sort_values(\"age_bin\"))"
   ]
  },
  {
   "cell_type": "code",
   "execution_count": 25,
   "id": "7318c2e6",
   "metadata": {},
   "outputs": [
    {
     "name": "stdout",
     "output_type": "stream",
     "text": [
      "Original Array:\n",
      " [[ 1  2  3  4]\n",
      " [ 5  6  7  8]\n",
      " [ 9 10 11 12]]\n",
      "\n",
      "Shape: (3, 4)\n",
      "Size: 12\n",
      "Transpose:\n",
      " [[ 1  5  9]\n",
      " [ 2  6 10]\n",
      " [ 3  7 11]\n",
      " [ 4  8 12]]\n",
      "Flattened: [ 1  2  3  4  5  6  7  8  9 10 11 12]\n"
     ]
    }
   ],
   "source": [
    "#----------------------------------------------------------PROBLEM 4------------------------------------------------------------\n",
    "arr = np.arange(1, 13).reshape(3, 4)\n",
    "print(\"Original Array:\\n\", arr)\n",
    "\n",
    "# Shape, Size, Transpose, Flatten\n",
    "print(\"\\nShape:\", arr.shape)\n",
    "print(\"Size:\", arr.size)\n",
    "print(\"Transpose:\\n\", arr.T)\n",
    "print(\"Flattened:\", arr.flatten())"
   ]
  },
  {
   "cell_type": "code",
   "execution_count": 26,
   "id": "fe91de0b",
   "metadata": {},
   "outputs": [
    {
     "name": "stdout",
     "output_type": "stream",
     "text": [
      "\n",
      "Last row using negative index: [ 9 10 11 12]\n",
      "Error during slicing: index 5 is out of bounds for axis 0 with size 3\n"
     ]
    }
   ],
   "source": [
    "# Negative Indexing\n",
    "print(\"\\nLast row using negative index:\", arr[-1])\n",
    "try:\n",
    "    print(arr[5])  \n",
    "except Exception as e:\n",
    "    print(\"Error during slicing:\", e)"
   ]
  },
  {
   "cell_type": "code",
   "execution_count": 27,
   "id": "dfdea888",
   "metadata": {},
   "outputs": [
    {
     "name": "stdout",
     "output_type": "stream",
     "text": [
      "\n",
      "Broadcasting Example:\n",
      " [[11 12 13 14]\n",
      " [15 16 17 18]\n",
      " [19 20 21 22]]\n",
      "Dot Product:\n",
      " [[ 30  70 110]\n",
      " [ 70 174 278]\n",
      " [110 278 446]]\n"
     ]
    }
   ],
   "source": [
    "# Arithmetic Operations\n",
    "print(\"\\nBroadcasting Example:\\n\", arr + 10)\n",
    "print(\"Dot Product:\\n\", np.dot(arr, arr.T))"
   ]
  },
  {
   "cell_type": "code",
   "execution_count": 28,
   "id": "1bac9430",
   "metadata": {},
   "outputs": [
    {
     "name": "stdout",
     "output_type": "stream",
     "text": [
      "\n",
      "Square Matrix:\n",
      " [[1 2]\n",
      " [3 4]]\n",
      "Determinant: -2.0000000000000004\n",
      "Inverse:\n",
      " [[-2.   1. ]\n",
      " [ 1.5 -0.5]]\n"
     ]
    }
   ],
   "source": [
    "# Linear Algebra Operations (square matrix required)\n",
    "square_arr = np.array([[1, 2], [3, 4]])\n",
    "det = np.linalg.det(square_arr)\n",
    "inv = np.linalg.inv(square_arr)\n",
    "\n",
    "print(\"\\nSquare Matrix:\\n\", square_arr)\n",
    "print(\"Determinant:\", det)\n",
    "print(\"Inverse:\\n\", inv)"
   ]
  }
 ],
 "metadata": {
  "kernelspec": {
   "display_name": "Python 3 (ipykernel)",
   "language": "python",
   "name": "python3"
  },
  "language_info": {
   "codemirror_mode": {
    "name": "ipython",
    "version": 3
   },
   "file_extension": ".py",
   "mimetype": "text/x-python",
   "name": "python",
   "nbconvert_exporter": "python",
   "pygments_lexer": "ipython3",
   "version": "3.11.5"
  }
 },
 "nbformat": 4,
 "nbformat_minor": 5
}
