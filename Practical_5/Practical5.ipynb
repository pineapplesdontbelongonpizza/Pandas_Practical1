{
 "cells": [
  {
   "cell_type": "code",
   "execution_count": 4,
   "id": "6312ca81",
   "metadata": {},
   "outputs": [
    {
     "data": {
      "text/html": [
       "<div>\n",
       "<style scoped>\n",
       "    .dataframe tbody tr th:only-of-type {\n",
       "        vertical-align: middle;\n",
       "    }\n",
       "\n",
       "    .dataframe tbody tr th {\n",
       "        vertical-align: top;\n",
       "    }\n",
       "\n",
       "    .dataframe thead th {\n",
       "        text-align: right;\n",
       "    }\n",
       "</style>\n",
       "<table border=\"1\" class=\"dataframe\">\n",
       "  <thead>\n",
       "    <tr style=\"text-align: right;\">\n",
       "      <th></th>\n",
       "      <th>age</th>\n",
       "      <th>gender</th>\n",
       "      <th>beauty</th>\n",
       "      <th>eval</th>\n",
       "      <th>tenure</th>\n",
       "      <th>students</th>\n",
       "      <th>prof</th>\n",
       "    </tr>\n",
       "  </thead>\n",
       "  <tbody>\n",
       "    <tr>\n",
       "      <th>0</th>\n",
       "      <td>57</td>\n",
       "      <td>Male</td>\n",
       "      <td>9.59</td>\n",
       "      <td>4.24</td>\n",
       "      <td>Yes</td>\n",
       "      <td>14</td>\n",
       "      <td>Prof_52</td>\n",
       "    </tr>\n",
       "    <tr>\n",
       "      <th>1</th>\n",
       "      <td>43</td>\n",
       "      <td>Male</td>\n",
       "      <td>9.53</td>\n",
       "      <td>9.58</td>\n",
       "      <td>No</td>\n",
       "      <td>38</td>\n",
       "      <td>Prof_93</td>\n",
       "    </tr>\n",
       "    <tr>\n",
       "      <th>2</th>\n",
       "      <td>36</td>\n",
       "      <td>Male</td>\n",
       "      <td>4.34</td>\n",
       "      <td>9.68</td>\n",
       "      <td>No</td>\n",
       "      <td>174</td>\n",
       "      <td>Prof_15</td>\n",
       "    </tr>\n",
       "    <tr>\n",
       "      <th>3</th>\n",
       "      <td>49</td>\n",
       "      <td>Male</td>\n",
       "      <td>6.13</td>\n",
       "      <td>9.40</td>\n",
       "      <td>Yes</td>\n",
       "      <td>145</td>\n",
       "      <td>Prof_72</td>\n",
       "    </tr>\n",
       "    <tr>\n",
       "      <th>4</th>\n",
       "      <td>47</td>\n",
       "      <td>Female</td>\n",
       "      <td>4.70</td>\n",
       "      <td>5.59</td>\n",
       "      <td>Yes</td>\n",
       "      <td>154</td>\n",
       "      <td>Prof_61</td>\n",
       "    </tr>\n",
       "  </tbody>\n",
       "</table>\n",
       "</div>"
      ],
      "text/plain": [
       "   age  gender  beauty  eval tenure  students     prof\n",
       "0   57    Male    9.59  4.24    Yes        14  Prof_52\n",
       "1   43    Male    9.53  9.58     No        38  Prof_93\n",
       "2   36    Male    4.34  9.68     No       174  Prof_15\n",
       "3   49    Male    6.13  9.40    Yes       145  Prof_72\n",
       "4   47  Female    4.70  5.59    Yes       154  Prof_61"
      ]
     },
     "execution_count": 4,
     "metadata": {},
     "output_type": "execute_result"
    }
   ],
   "source": [
    "import pandas as pd\n",
    "\n",
    "df = pd.read_csv(\"teacher_ratings.csv\")\n",
    "df.head()"
   ]
  },
  {
   "cell_type": "markdown",
   "id": "6a8515f4",
   "metadata": {},
   "source": [
    "Q1. Using the teachers' rating dataset, what is the probability of receiving an evaluation score of greater than 4.5\n",
    "\n",
    "A1."
   ]
  },
  {
   "cell_type": "code",
   "execution_count": 6,
   "id": "edfe4acc",
   "metadata": {},
   "outputs": [
    {
     "name": "stdout",
     "output_type": "stream",
     "text": [
      "Probability of evaluation > 4.5: 0.8\n"
     ]
    }
   ],
   "source": [
    "total = len(df)\n",
    "greater_45 = len(df[df['eval'] > 4.5])\n",
    "\n",
    "# Probability calculation\n",
    "probability = greater_45 / total\n",
    "print(\"Probability of evaluation > 4.5:\", probability)"
   ]
  },
  {
   "cell_type": "markdown",
   "id": "5036108d",
   "metadata": {},
   "source": [
    "Q2. Using the teachers' rating dataset, what is the probability of receiving an evaluation score greater than 3.5 and less than 4.2\n",
    "\n",
    "A2."
   ]
  },
  {
   "cell_type": "code",
   "execution_count": 7,
   "id": "34c62a1f",
   "metadata": {},
   "outputs": [
    {
     "name": "stdout",
     "output_type": "stream",
     "text": [
      "Probability of 3.5 < evaluation < 4.2: 0.09\n"
     ]
    }
   ],
   "source": [
    "#count of scores between 3.5 and 4.2\n",
    "between = len(df[(df['eval'] > 3.5) & (df['eval'] < 4.2)])\n",
    "\n",
    "#probability calculation\n",
    "probability_between = between / total\n",
    "print(\"Probability of 3.5 < evaluation < 4.2:\", probability_between)"
   ]
  },
  {
   "cell_type": "markdown",
   "id": "5787febb",
   "metadata": {},
   "source": [
    "Q3. Using the two-tailed test from a normal distribution:\n",
    "1. A professional basketball team wants to compare its performance with that of players in a regional league.\n",
    "2. The pros are known to have a historic mean of 12 points per game with a standard deviation of 5.5.\n",
    "3. A group of 36 regional players recorded on average 10.7 points per game.\n",
    "4. The pro coach would like to know whether his professional team scores on average are different from that of the regional players.\n",
    "State the null hypothesis\n",
    "Null Hypo: (\"The mean point of the regional players is not different from the historic mean\")\n",
    "Alternative Hypo: (\"The mean point of the regional players is different from the historic mean\")\n",
    "\n",
    "A3. Given Data:\n",
    "Population mean (μ) = 12\n",
    "Population standard deviation (σ) = 5.5\n",
    "Sample mean (x̄) = 10.7\n",
    "Sample size (n) = 36\n",
    "Significance level (α) = 0.05 (for 95% confidence)\n",
    "\n",
    "###### State Hypotheses\n",
    "Null Hypothesis (H₀): The mean points of regional players = 12\n",
    "Alternative Hypothesis (H₁): The mean points of regional players ≠ 12\n",
    "\n",
    "##### Compute Z-Statistic"
   ]
  },
  {
   "cell_type": "code",
   "execution_count": 8,
   "id": "5ac6a7b4",
   "metadata": {},
   "outputs": [
    {
     "name": "stdout",
     "output_type": "stream",
     "text": [
      "Z-score: -1.418181818181819\n",
      "Critical Z value: 1.959963984540054\n",
      "Fail to Reject Null Hypothesis (No significant difference)\n"
     ]
    }
   ],
   "source": [
    "import math\n",
    "from scipy.stats import norm\n",
    "\n",
    "#entering given data\n",
    "mu = 12        # population mean\n",
    "sigma = 5.5    # population std deviation\n",
    "x_bar = 10.7   # sample mean\n",
    "n = 36         # sample size\n",
    "\n",
    "#Z-statistic\n",
    "Z = (x_bar - mu) / (sigma / math.sqrt(n))\n",
    "print(\"Z-score:\", Z)\n",
    "\n",
    "#Two-tailed test\n",
    "alpha = 0.05\n",
    "critical_value = norm.ppf(1 - alpha/2)\n",
    "print(\"Critical Z value:\", critical_value)\n",
    "\n",
    "#Decision\n",
    "if abs(Z) > critical_value:\n",
    "    print(\"Reject Null Hypothesis (Means are significantly different)\")\n",
    "else:\n",
    "    print(\"Fail to Reject Null Hypothesis (No significant difference)\")\n"
   ]
  },
  {
   "cell_type": "markdown",
   "id": "5d71c979",
   "metadata": {},
   "source": [
    "##### Interpretation\n",
    "If |Z| > 1.96 → Reject H₀\n",
    "If |Z| ≤ 1.96 → Fail to reject H₀"
   ]
  }
 ],
 "metadata": {
  "kernelspec": {
   "display_name": "Python 3 (ipykernel)",
   "language": "python",
   "name": "python3"
  },
  "language_info": {
   "codemirror_mode": {
    "name": "ipython",
    "version": 3
   },
   "file_extension": ".py",
   "mimetype": "text/x-python",
   "name": "python",
   "nbconvert_exporter": "python",
   "pygments_lexer": "ipython3",
   "version": "3.11.5"
  }
 },
 "nbformat": 4,
 "nbformat_minor": 5
}
